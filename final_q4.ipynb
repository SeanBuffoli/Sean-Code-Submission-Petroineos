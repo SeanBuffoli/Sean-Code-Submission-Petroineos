{
 "cells": [
  {
   "cell_type": "markdown",
   "metadata": {},
   "source": [
    "## Import Dependencies"
   ]
  },
  {
   "cell_type": "code",
   "execution_count": 1,
   "metadata": {},
   "outputs": [],
   "source": [
    "import pandas as pd\n",
    "import datetime as dt\n",
    "from datetime import date\n",
    "from datetime import datetime\n",
    "import numpy as np\n",
    "import plotly.graph_objects as go\n",
    "from datetime import timedelta\n"
   ]
  },
  {
   "cell_type": "markdown",
   "metadata": {},
   "source": [
    "## Import CSV and Pre-Processing"
   ]
  },
  {
   "cell_type": "code",
   "execution_count": 2,
   "metadata": {},
   "outputs": [],
   "source": [
    "source = pd.read_csv('Trades.csv')\n",
    "\n",
    "#source data pre-processing\n",
    "\n",
    "\n",
    "source['TradeDateTime'] = pd.to_datetime(source['TradeDateTime'])\n",
    "source.sort_values(by='TradeDateTime',ascending=False)\n",
    "\n",
    "\n",
    "arr_date = source['TradeDateTime'].dt.to_pydatetime()\n",
    "source['TradeDateTime'] = pd.Series(arr_date, dtype=object)\n",
    "\n",
    "#Converts Emission Venue A & B into just Emission for querying\n",
    "\n",
    "source['Product'] = np.where(source['Product'].str.contains('Emission', na=False), \"Emission\", source['Product'])\n",
    "\n",
    "source = source.set_index('TradeDateTime').sort_index()\n"
   ]
  },
  {
   "cell_type": "markdown",
   "metadata": {},
   "source": [
    "## Supporting Functions"
   ]
  },
  {
   "cell_type": "markdown",
   "metadata": {},
   "source": [
    "Here I've defined the supporting subroutines to help assist my main function and to make the code more readable, we're utilsing datetime for its tools in time manipulation which is key to this solution."
   ]
  },
  {
   "cell_type": "code",
   "execution_count": 3,
   "metadata": {},
   "outputs": [],
   "source": [
    "def datetime_range(start, end, delta):\n",
    "    current = start\n",
    "    while current < end:\n",
    "        yield current\n",
    "        current += delta\n",
    "\n",
    "\n",
    "\n",
    "\n",
    "#'Apr 18 2022 1:45PM' - acceptable format for begin and end variables.\n",
    "\n",
    "\n",
    "\n",
    "\n",
    "def dt_manipulation(datetime,freq,begin,end):\n",
    "\n",
    "    if freq == '15MIN':\n",
    "        td = timedelta(minutes=15)\n",
    "\n",
    "    elif freq =='1H':\n",
    "        td = timedelta(hours=1)\n",
    "        begin = begin.replace(minute = 0)\n",
    "        end = end.replace(minute = 0)\n",
    "\n",
    "    elif freq =='1D':\n",
    "        td = timedelta(days=1) \n",
    "        begin = begin.replace(hour = 7,minute = 0)\n",
    "        end = end.replace(hour = 17,minute = 0)   \n",
    "\n",
    "    dt_list = [dt for dt in \n",
    "       datetime_range(begin, end, \n",
    "       td)]\n",
    "    \n",
    "\n",
    "\n",
    "    if freq != 'D':# a bit messy but due to time constraints\n",
    "        dt_series = pd.DatetimeIndex(dt_list)\n",
    "        \n",
    "        dt_series = pd.Series(data = dt_list, index = dt_series)\n",
    "        dt_series = dt_series.between_time('07:00', '17:00')\n",
    "\n",
    "    else:\n",
    "        dt_series = pd.Series(dt_list)\n",
    "\n",
    "    try:\n",
    "        last_dt = dt_series[dt_series <=datetime].iloc[-1]\n",
    "    except:\n",
    "        last_dt = dt_series[0]\n",
    "\n",
    "    return last_dt"
   ]
  },
  {
   "cell_type": "markdown",
   "metadata": {},
   "source": [
    "## Main Function"
   ]
  },
  {
   "cell_type": "markdown",
   "metadata": {},
   "source": [
    "This Subroutine utilises many techniques to manipulate the data into the requested format, it does so using apply, iteration alongside its support functions created earlier."
   ]
  },
  {
   "cell_type": "code",
   "execution_count": 4,
   "metadata": {},
   "outputs": [],
   "source": [
    "def create_ohlc_vol_df(begin,end,freq,products = []):\n",
    "\n",
    "    begin = datetime.strptime(begin, '%b %d %Y %I:%M%p')\n",
    "    end = datetime.strptime(end, '%b %d %Y %I:%M%p')\n",
    "\n",
    "    for x, product in enumerate( products): # converts emission products with different venues into just Emission as a singular product\n",
    "\n",
    "        if \"Emission\" in product:\n",
    "            products[x] == \"Emission\"\n",
    "    \n",
    "    products = list(dict.fromkeys(products)) # Removes dupes as a result\n",
    "\n",
    "    universe = source[source['Product'].isin(products)]\n",
    "\n",
    "    universe = universe.loc[begin:end]\n",
    "\n",
    "    #creating version of universe for only within trading hours\n",
    "\n",
    "    \n",
    "\n",
    "\n",
    "    #create required columns - label columns indicating the timeframe which can be used to pivot\n",
    "\n",
    "    output = {}\n",
    "\n",
    "    if freq == '1D':\n",
    "        universe['1D'] = universe.index.to_series().apply(lambda x: dt_manipulation(x,'1D',begin,end))\n",
    "\n",
    "        for x, contract in enumerate(universe['Contract'].unique()):\n",
    "            \n",
    "            output[contract] =pd.pivot_table(universe[universe['Contract']==contract],columns=['Product'], values=['Price','Quantity'], index=['1D'],\n",
    "                            aggfunc={'Price':[min,max,'first','last'],'Quantity':np.sum})\n",
    "\n",
    "\n",
    "\n",
    "\n",
    "\n",
    "\n",
    "    elif freq == '15MIN':\n",
    "        universe_trade_hours = universe.between_time('07:00', '17:00')\n",
    "\n",
    "        universe_trade_hours['15MIN'] = universe_trade_hours.index.to_series().apply(lambda x: dt_manipulation(x,'15MIN',begin,end) )\n",
    "\n",
    "\n",
    "        for x, contract in enumerate(universe['Contract'].unique()):\n",
    "        \n",
    "            output[contract] =pd.pivot_table(universe_trade_hours[universe_trade_hours['Contract']==contract],columns=['Product'], values=['Price','Quantity'], index=['15MIN'],\n",
    "                            aggfunc={'Price':[min,max,'first','last'],'Quantity':np.sum})\n",
    "\n",
    "\n",
    "\n",
    "\n",
    "    elif freq == '1H':\n",
    "        universe_trade_hours = universe.between_time('07:00', '17:00')\n",
    "\n",
    "        universe_trade_hours['1H'] = universe_trade_hours.index.to_series().apply(lambda x: dt_manipulation(x,'1H',begin,end) )\n",
    "\n",
    "        for x, contract in enumerate(universe['Contract'].unique()):\n",
    "        \n",
    "            output[contract] =pd.pivot_table(universe_trade_hours[universe_trade_hours['Contract']==contract],columns=['Product'], values=['Price','Quantity'], index=['1H'],\n",
    "                            aggfunc={'Price':[min,max,'first','last'],'Quantity':np.sum})\n",
    "\n",
    "\n",
    "\n",
    "\n",
    "\n",
    "    return output"
   ]
  },
  {
   "cell_type": "markdown",
   "metadata": {},
   "source": [
    "# Testing"
   ]
  },
  {
   "cell_type": "markdown",
   "metadata": {},
   "source": [
    "Please note that first, last, max and min are open,close,high and low respectively alongside Quantity sum which is trading volumne"
   ]
  },
  {
   "cell_type": "markdown",
   "metadata": {},
   "source": [
    "The output is a dictionary with multiple datasets, the keys correspond to which contract the underlying dataframe represents."
   ]
  },
  {
   "cell_type": "code",
   "execution_count": 5,
   "metadata": {},
   "outputs": [
    {
     "data": {
      "text/plain": [
       "{'Q01':                        Price                            Quantity\n",
       "                        first     last      max      min      sum\n",
       " Product               Energy   Energy   Energy   Energy   Energy\n",
       " 15MIN                                                           \n",
       " 2022-04-18 13:45:00  23.9175  23.9625  23.9950  23.9050      212\n",
       " 2022-04-18 14:00:00  23.9525  24.0175  24.1125  23.9525      467\n",
       " 2022-04-18 14:15:00  24.0025  24.0375  24.0400  23.9250      233\n",
       " 2022-04-18 14:30:00  24.0500  23.9900  24.0975  23.9775      481\n",
       " 2022-04-18 14:45:00  23.9975  24.0450  24.1350  23.9925      493\n",
       " 2022-04-18 15:00:00  24.0450  24.0250  24.0750  24.0175      334\n",
       " 2022-04-18 15:15:00  24.0175  24.0850  24.0900  24.0175      228\n",
       " 2022-04-18 15:30:00  24.0825  24.0850  24.1300  24.0725      352\n",
       " 2022-04-18 15:45:00  24.0850  24.0975  24.1450  24.0850      373\n",
       " 2022-04-18 16:00:00  24.0975  24.1550  24.2000  24.0975      854\n",
       " 2022-04-18 16:15:00  24.1500  24.0225  24.1500  23.9775      868\n",
       " 2022-04-18 16:30:00  24.0175  24.0075  24.0625  23.9525      389\n",
       " 2022-04-18 16:45:00  24.0125  24.0725  24.1175  24.0125      491\n",
       " 2022-04-18 17:00:00  24.2550  24.4025  24.4600  24.2500      403}"
      ]
     },
     "execution_count": 5,
     "metadata": {},
     "output_type": "execute_result"
    }
   ],
   "source": [
    "create_ohlc_vol_df('Apr 18 2022 1:45PM','Apr 19 2022 7:00AM','15MIN',['Energy'])\n"
   ]
  },
  {
   "cell_type": "code",
   "execution_count": 6,
   "metadata": {},
   "outputs": [
    {
     "data": {
      "text/plain": [
       "{'Q01':                        Price                           Quantity\n",
       "                        first     last      max     min      sum\n",
       " Product               Energy   Energy   Energy  Energy   Energy\n",
       " 1D                                                             \n",
       " 2022-04-18 07:00:00  23.9175  24.0725  24.2000  23.905     5775\n",
       " 2022-04-19 07:00:00  24.2550  24.4375  24.6225  24.250    10038,\n",
       " 'DA':                        Price                              Quantity\n",
       "                        first      last       max      min      sum\n",
       " Product             Emission  Emission  Emission Emission Emission\n",
       " 1D                                                                \n",
       " 2022-04-18 07:00:00  19.6125  20.13125  20.20625  19.3125    72056\n",
       " 2022-04-19 07:00:00  20.1750  20.29375  20.50000  20.1750    22152,\n",
       " 'M01':                        Price                              Quantity\n",
       "                        first      last      max       min      sum\n",
       " Product             Emission  Emission Emission  Emission Emission\n",
       " 1D                                                                \n",
       " 2022-04-18 07:00:00    19.40  19.15000  19.6400  19.07250     3679\n",
       " 2022-04-19 07:00:00    20.25  20.11875  20.4175  19.81875     2739}"
      ]
     },
     "execution_count": 6,
     "metadata": {},
     "output_type": "execute_result"
    }
   ],
   "source": [
    "create_ohlc_vol_df('Apr 18 2022 1:45PM','Apr 19 2022 10:45AM','1D',['Energy','Emission'])"
   ]
  }
 ],
 "metadata": {
  "kernelspec": {
   "display_name": "Python 3.11.0 64-bit",
   "language": "python",
   "name": "python3"
  },
  "language_info": {
   "codemirror_mode": {
    "name": "ipython",
    "version": 3
   },
   "file_extension": ".py",
   "mimetype": "text/x-python",
   "name": "python",
   "nbconvert_exporter": "python",
   "pygments_lexer": "ipython3",
   "version": "3.11.0"
  },
  "orig_nbformat": 4,
  "vscode": {
   "interpreter": {
    "hash": "91ed0e42b77bfcbfb8db6851372be0190b6f879164f340f95e8c058c3224b597"
   }
  }
 },
 "nbformat": 4,
 "nbformat_minor": 2
}
