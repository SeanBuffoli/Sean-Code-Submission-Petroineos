{
 "cells": [
  {
   "cell_type": "code",
   "execution_count": 1,
   "metadata": {},
   "outputs": [
    {
     "name": "stdout",
     "output_type": "stream",
     "text": [
      "0 0\n",
      "4 LEFT -4 0\n",
      "-4 0\n",
      "6 UP -4 6\n",
      "-4 6\n",
      "7 DOWN -4 -1\n",
      "-4 -1\n",
      "7 RIGHT 3 -1\n"
     ]
    },
    {
     "data": {
      "text/plain": [
       "(3, -1)"
      ]
     },
     "execution_count": 1,
     "metadata": {},
     "output_type": "execute_result"
    }
   ],
   "source": [
    "import re\n",
    "\n",
    "def robot(instruction_list):\n",
    "    x = 0\n",
    "    y = 0\n",
    "    turn_on = False\n",
    "    \n",
    "    for i, instruction in enumerate(instruction_list):\n",
    "\n",
    "        if re.findall(\"[a-zA-Z]+\", instruction)[0].upper() == \"BEGIN\":\n",
    "            turn_on = True\n",
    "\n",
    "        elif re.findall(\"[a-zA-Z]+\", instruction)[0].upper() == \"STOP\":\n",
    "                    turn_on = False    \n",
    "\n",
    "        if turn_on == True:\n",
    "            if re.match(\"[a-zA-Z]+[ ]{0,}[0-9]+\",instruction):\n",
    "\n",
    "                no_moves = int(re.findall(\"[0-9]+\", instruction)[0])\n",
    "\n",
    "                direction = re.findall(\"[a-zA-Z]+\", instruction)[0].upper()\n",
    "                print(x,y)\n",
    "\n",
    "                if direction == \"UP\":\n",
    "                    y += no_moves\n",
    "                elif direction == \"DOWN\":\n",
    "                    y -= no_moves\n",
    "\n",
    "                elif direction == \"LEFT\":\n",
    "                    x -= no_moves\n",
    "                elif direction == \"RIGHT\":\n",
    "                    x += no_moves\n",
    "                print(no_moves,direction,x,y)\n",
    "\n",
    "\n",
    "    distance = (x,y)\n",
    "\n",
    "\n",
    "    return distance    \n",
    "\n",
    "\n",
    "string = [\"leFT 4\",\"BEGIN\",\"leFT 4\",\"UP 6\",\"Up\",\"UP\",\"DOWN 7\",\"RIGHT 7\",\"STOP\",\"RIGHT 8\"]\n",
    "\n",
    "robot(string)"
   ]
  }
 ],
 "metadata": {
  "kernelspec": {
   "display_name": "Python 3.11.0 64-bit",
   "language": "python",
   "name": "python3"
  },
  "language_info": {
   "codemirror_mode": {
    "name": "ipython",
    "version": 3
   },
   "file_extension": ".py",
   "mimetype": "text/x-python",
   "name": "python",
   "nbconvert_exporter": "python",
   "pygments_lexer": "ipython3",
   "version": "3.11.0"
  },
  "orig_nbformat": 4,
  "vscode": {
   "interpreter": {
    "hash": "91ed0e42b77bfcbfb8db6851372be0190b6f879164f340f95e8c058c3224b597"
   }
  }
 },
 "nbformat": 4,
 "nbformat_minor": 2
}
